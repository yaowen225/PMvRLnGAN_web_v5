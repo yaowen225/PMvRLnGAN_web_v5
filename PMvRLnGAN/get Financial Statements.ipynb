{
 "cells": [
  {
   "cell_type": "code",
   "execution_count": null,
   "metadata": {},
   "outputs": [],
   "source": [
    "import numpy as np\n",
    "import pandas as pd\n",
    "from FinMind.data import DataLoader\n",
    "\n",
    "merged_all = pd.DataFrame()\n",
    "\n",
    "api = DataLoader()\n",
    "api.login_by_token(api_token='xxx')\n",
    "\n",
    "stock_pool = [\"2330\",\"2317\",\"2454\",\"2412\",\"2308\",\"6505\",\"2303\",\"2382\",\n",
    "              \"1303\",\"1301\",\"2002\",\"2207\",\"1216\",\"1326\",\"3045\",\"5871\",\n",
    "              \"2395\",\"2912\",\"3008\",\"1101\",\"3037\",\"3231\",\"3034\",\"4904\",\n",
    "              \"2301\",\"2357\",\"2609\",\"2408\",\"3443\",\"2618\",\"2327\",\"1590\",\n",
    "              \"4938\",\"2379\",\"2603\",\"2345\",\"1402\",\"9910\",\"8046\",\"2615\",\n",
    "              \"2610\",\"1102\",\"2356\",\"2376\",\"1605\",\"2377\",\"3481\",\"2409\",\n",
    "              \"1476\",\"2105\",\"2324\",\"2371\",\"2474\",\"1504\",\"9945\",\"2344\",\n",
    "              \"2360\",\"3017\",\"1229\",\"4958\",\"9941\",\"2347\",\"2027\",\"3533\",\n",
    "              \"2353\",\"9904\",\"3702\",\"2352\",\"9921\",\"2201\",\"3023\",\"3653\",\n",
    "              \"2049\",\"2383\"]"
   ]
  },
  {
   "cell_type": "code",
   "execution_count": null,
   "metadata": {
    "scrolled": true
   },
   "outputs": [],
   "source": [
    "for stock_id in stock_pool:\n",
    "    print(stock_id)\n",
    "    df = api.taiwan_stock_financial_statement(\n",
    "        stock_id=stock_id,\n",
    "        start_date='2013-01-01',\n",
    "    )\n",
    "    # 使用 pivot_table 進行重塑\n",
    "    df_financial_pivot = df.pivot_table(index=['date', 'stock_id'], columns='type', values='value', aggfunc='first').reset_index()\n",
    "    df_financial_pivot.columns.name = None\n",
    "    \n",
    "    \n",
    "    df = api.taiwan_stock_balance_sheet(\n",
    "    stock_id=stock_id,\n",
    "    start_date='2013-01-01',\n",
    "    )\n",
    "    df_balance_pivot = df.pivot_table(index=['date', 'stock_id'], columns='type', values='value', aggfunc='first').reset_index()\n",
    "\n",
    "    df_balance_pivot.columns.name = None\n",
    "    \n",
    "    df = api.taiwan_stock_cash_flows_statement(\n",
    "    stock_id=stock_id,\n",
    "    start_date='2013-01-01',\n",
    "    )\n",
    "    df_cash_pivot = df.pivot_table(index=['date', 'stock_id'], columns='type', values='value', aggfunc='first').reset_index()\n",
    "\n",
    "    df_cash_pivot.columns.name = None\n",
    "    \n",
    "    merged_df = df_financial_pivot.merge(df_balance_pivot, on=['date', 'stock_id']).merge(df_cash_pivot, on=['date', 'stock_id'])\n",
    "    \n",
    "    merged_all = pd.concat([merged_all, merged_df], ignore_index=True)"
   ]
  },
  {
   "cell_type": "code",
   "execution_count": null,
   "metadata": {
    "scrolled": true
   },
   "outputs": [],
   "source": [
    "merged_all"
   ]
  },
  {
   "cell_type": "code",
   "execution_count": null,
   "metadata": {},
   "outputs": [],
   "source": [
    "merged_all = merged_all.dropna(axis=1)"
   ]
  },
  {
   "cell_type": "code",
   "execution_count": null,
   "metadata": {},
   "outputs": [],
   "source": [
    "# 1. 加入.TW\n",
    "# 2. 改日期 \n",
    "#    3/31 改 5/16\n",
    "#    6/30 改 8/15\n",
    "#    9/30 改 11/15\n",
    "#    12/31 改 4/1"
   ]
  },
  {
   "cell_type": "code",
   "execution_count": null,
   "metadata": {},
   "outputs": [],
   "source": [
    "merged_all['stock_id'] = merged_all['stock_id'].apply(lambda x: x + '.TW')"
   ]
  },
  {
   "cell_type": "code",
   "execution_count": null,
   "metadata": {},
   "outputs": [],
   "source": [
    "# 創建日期替换規則\n",
    "date_rules = {\n",
    "    '03-31': '05-16',\n",
    "    '06-30': '08-15',\n",
    "    '09-30': '11-15',\n",
    "}\n",
    "\n",
    "for rule in date_rules:\n",
    "    old_date = rule\n",
    "    new_date = date_rules[rule]\n",
    "    merged_all['date'] = merged_all['date'].str.replace(old_date, new_date)\n",
    "    \n",
    "\n",
    "\n",
    "for year in range(2013, 2025):\n",
    "    old_date = f'{year}-12-31'\n",
    "    new_date = f'{year + 1}-04-01'\n",
    "    merged_all['date'] = merged_all['date'].str.replace(old_date, new_date)\n",
    "\n",
    "merged_all"
   ]
  },
  {
   "cell_type": "code",
   "execution_count": null,
   "metadata": {},
   "outputs": [],
   "source": [
    "merged_all.to_csv('Financial statements.csv', index=False)"
   ]
  },
  {
   "cell_type": "code",
   "execution_count": null,
   "metadata": {},
   "outputs": [],
   "source": []
  },
  {
   "cell_type": "code",
   "execution_count": null,
   "metadata": {},
   "outputs": [],
   "source": []
  },
  {
   "cell_type": "code",
   "execution_count": null,
   "metadata": {
    "scrolled": true
   },
   "outputs": [],
   "source": [
    "import pandas as pd\n",
    "import yfinance as yf\n",
    "# 設定 CSV 檔案路徑\n",
    "csv_file_path = 'Financial statements.csv'\n",
    "\n",
    "Financial_df = pd.DataFrame()\n",
    "\n",
    "# 讀取 CSV 檔案並轉換成 DataFrame\n",
    "df = pd.read_csv(csv_file_path)\n",
    "\n",
    "def append_tw_suffix(stock_id):\n",
    "    if not stock_id.endswith('.TW'):\n",
    "        stock_id += '.TW'\n",
    "    return stock_id\n",
    "\n",
    "# Use the apply method to modify the 'stock_id' column\n",
    "df['stock_id'] = df['stock_id'].apply(append_tw_suffix)\n",
    "\n",
    "# 顯示 DataFrame 資料\n",
    "print(df)"
   ]
  },
  {
   "cell_type": "code",
   "execution_count": null,
   "metadata": {
    "scrolled": true
   },
   "outputs": [],
   "source": [
    "for stock_id in df['stock_id'].unique():\n",
    "\n",
    "    #LSTM, RF, SVM, RL使用此資料(利用這一季到下一季的股價算Sharpe Ratio)\n",
    "    selected_data = df[df['stock_id'] == stock_id].copy()\n",
    "    selected_data['next_date'] = selected_data['date'].shift(-1)\n",
    "\n",
    "    for index, row in selected_data.iterrows():\n",
    "        if pd.isna(row['next_date']):\n",
    "            continue;\n",
    "        date = row['date'].replace(\"/\", \"-\")\n",
    "        next_date = row['next_date'].replace(\"/\", \"-\")\n",
    "\n",
    "        df_sin = yf.download(stock_id, start= date, end=next_date) \n",
    "        \n",
    "        df_sin = df_sin[df_sin['Volume'] != 0]\n",
    "        close = df_sin['Adj Close']\n",
    "        pct_change = close.pct_change()\n",
    "    \n",
    "        profit = pct_change.mean()\n",
    "        risk = pct_change.std()\n",
    "        sharpe_ratio = profit/ risk\n",
    "    \n",
    "        selected_data.loc[index, 'sharpe_ratio'] = sharpe_ratio\n",
    "        \n",
    "    selected_data = selected_data.drop(['next_date'], axis=1, errors='ignore')        \n",
    "    Financial_df = pd.concat([Financial_df, selected_data], ignore_index=True)"
   ]
  },
  {
   "cell_type": "code",
   "execution_count": null,
   "metadata": {},
   "outputs": [],
   "source": [
    "Financial_df.to_csv('Stock-Picked Agent/Financial statements_SharpeRatio_RL.csv', index=False)"
   ]
  },
  {
   "cell_type": "code",
   "execution_count": null,
   "metadata": {},
   "outputs": [],
   "source": []
  },
  {
   "cell_type": "code",
   "execution_count": null,
   "metadata": {},
   "outputs": [],
   "source": []
  },
  {
   "cell_type": "code",
   "execution_count": null,
   "metadata": {
    "scrolled": true
   },
   "outputs": [],
   "source": [
    "for stock_id in df['stock_id'].unique():\n",
    "    \n",
    "    #GNN使用此資料(利用上一季到這一季的資料算Sharpe Ratio),為了要讓當季財報有夏普值可以訓練edge, 預測下一季夏普值無法訓練edge\n",
    "    selected_data = df[df['stock_id'] == stock_id].copy()\n",
    "    selected_data['before_date'] = selected_data['date'].shift(1)\n",
    "    \n",
    "    for index, row in selected_data.iterrows():\n",
    "        if pd.isna(row['before_date']):\n",
    "            continue;\n",
    "        date = row['date'].replace(\"/\", \"-\")\n",
    "        before_date = row['before_date'].replace(\"/\", \"-\")\n",
    "\n",
    "        df_sin = yf.download(stock_id, start= before_date, end=date) \n",
    "        \n",
    "        df_sin = df_sin[df_sin['Volume'] != 0]\n",
    "        close = df_sin['Adj Close']\n",
    "        pct_change = close.pct_change()\n",
    "    \n",
    "        profit = pct_change.mean()\n",
    "        risk = pct_change.std()\n",
    "        sharpe_ratio = profit/ risk\n",
    "    \n",
    "        selected_data.loc[index, 'sharpe_ratio'] = sharpe_ratio\n",
    "        \n",
    "    selected_data = selected_data.drop(['before_date'], axis=1, errors='ignore')\n",
    "    \n",
    "    stock_filename = stock_id[:4]\n",
    "    file_path = f'GAT-main/data/{stock_filename}.csv'\n",
    "    selected_data.to_csv(file_path, index=False)\n",
    "        "
   ]
  },
  {
   "cell_type": "code",
   "execution_count": null,
   "metadata": {},
   "outputs": [],
   "source": []
  }
 ],
 "metadata": {
  "colab": {
   "collapsed_sections": [],
   "name": "20200520 自編碼器與變分自編碼器.ipynb",
   "provenance": []
  },
  "kernelspec": {
   "display_name": "RL-GAT",
   "language": "python",
   "name": "rl-gat"
  },
  "language_info": {
   "codemirror_mode": {
    "name": "ipython",
    "version": 3
   },
   "file_extension": ".py",
   "mimetype": "text/x-python",
   "name": "python",
   "nbconvert_exporter": "python",
   "pygments_lexer": "ipython3",
   "version": "3.8.18"
  },
  "widgets": {
   "application/vnd.jupyter.widget-state+json": {
    "08d21ec4629e473d801b822bcabcfc83": {
     "model_module": "@jupyter-widgets/base",
     "model_name": "LayoutModel",
     "state": {
      "_model_module": "@jupyter-widgets/base",
      "_model_module_version": "1.2.0",
      "_model_name": "LayoutModel",
      "_view_count": null,
      "_view_module": "@jupyter-widgets/base",
      "_view_module_version": "1.2.0",
      "_view_name": "LayoutView",
      "align_content": null,
      "align_items": null,
      "align_self": null,
      "border": null,
      "bottom": null,
      "display": null,
      "flex": null,
      "flex_flow": null,
      "grid_area": null,
      "grid_auto_columns": null,
      "grid_auto_flow": null,
      "grid_auto_rows": null,
      "grid_column": null,
      "grid_gap": null,
      "grid_row": null,
      "grid_template_areas": null,
      "grid_template_columns": null,
      "grid_template_rows": null,
      "height": null,
      "justify_content": null,
      "justify_items": null,
      "left": null,
      "margin": null,
      "max_height": null,
      "max_width": null,
      "min_height": null,
      "min_width": null,
      "object_fit": null,
      "object_position": null,
      "order": null,
      "overflow": null,
      "overflow_x": null,
      "overflow_y": null,
      "padding": null,
      "right": null,
      "top": null,
      "visibility": null,
      "width": null
     }
    },
    "0b4c8d82c07e41f2b6f215a017597c76": {
     "model_module": "@jupyter-widgets/base",
     "model_name": "LayoutModel",
     "state": {
      "_model_module": "@jupyter-widgets/base",
      "_model_module_version": "1.2.0",
      "_model_name": "LayoutModel",
      "_view_count": null,
      "_view_module": "@jupyter-widgets/base",
      "_view_module_version": "1.2.0",
      "_view_name": "LayoutView",
      "align_content": null,
      "align_items": null,
      "align_self": null,
      "border": null,
      "bottom": null,
      "display": null,
      "flex": null,
      "flex_flow": null,
      "grid_area": null,
      "grid_auto_columns": null,
      "grid_auto_flow": null,
      "grid_auto_rows": null,
      "grid_column": null,
      "grid_gap": null,
      "grid_row": null,
      "grid_template_areas": null,
      "grid_template_columns": null,
      "grid_template_rows": null,
      "height": null,
      "justify_content": null,
      "justify_items": null,
      "left": null,
      "margin": null,
      "max_height": null,
      "max_width": null,
      "min_height": null,
      "min_width": null,
      "object_fit": null,
      "object_position": null,
      "order": null,
      "overflow": null,
      "overflow_x": null,
      "overflow_y": null,
      "padding": null,
      "right": null,
      "top": null,
      "visibility": null,
      "width": null
     }
    },
    "153bcee8342143af8ff9ba839fed80e9": {
     "model_module": "@jupyter-widgets/controls",
     "model_name": "FloatSliderModel",
     "state": {
      "_dom_classes": [],
      "_model_module": "@jupyter-widgets/controls",
      "_model_module_version": "1.5.0",
      "_model_name": "FloatSliderModel",
      "_view_count": null,
      "_view_module": "@jupyter-widgets/controls",
      "_view_module_version": "1.5.0",
      "_view_name": "FloatSliderView",
      "continuous_update": true,
      "description": "t",
      "description_tooltip": null,
      "disabled": false,
      "layout": "IPY_MODEL_4b5e4a2af4ec4615b0b8f94bdd8890eb",
      "max": 1,
      "min": 0,
      "orientation": "horizontal",
      "readout": true,
      "readout_format": ".2f",
      "step": 0.02,
      "style": "IPY_MODEL_5aa449b4e6a14684936d90fd5cc2f211",
      "value": 0.56
     }
    },
    "1d2128da384c41439930833bb4e792af": {
     "model_module": "@jupyter-widgets/base",
     "model_name": "LayoutModel",
     "state": {
      "_model_module": "@jupyter-widgets/base",
      "_model_module_version": "1.2.0",
      "_model_name": "LayoutModel",
      "_view_count": null,
      "_view_module": "@jupyter-widgets/base",
      "_view_module_version": "1.2.0",
      "_view_name": "LayoutView",
      "align_content": null,
      "align_items": null,
      "align_self": null,
      "border": null,
      "bottom": null,
      "display": null,
      "flex": null,
      "flex_flow": null,
      "grid_area": null,
      "grid_auto_columns": null,
      "grid_auto_flow": null,
      "grid_auto_rows": null,
      "grid_column": null,
      "grid_gap": null,
      "grid_row": null,
      "grid_template_areas": null,
      "grid_template_columns": null,
      "grid_template_rows": null,
      "height": null,
      "justify_content": null,
      "justify_items": null,
      "left": null,
      "margin": null,
      "max_height": null,
      "max_width": null,
      "min_height": null,
      "min_width": null,
      "object_fit": null,
      "object_position": null,
      "order": null,
      "overflow": null,
      "overflow_x": null,
      "overflow_y": null,
      "padding": null,
      "right": null,
      "top": null,
      "visibility": null,
      "width": null
     }
    },
    "1e224f266fa94f18a64728f72cd308f7": {
     "model_module": "@jupyter-widgets/controls",
     "model_name": "VBoxModel",
     "state": {
      "_dom_classes": [
       "widget-interact"
      ],
      "_model_module": "@jupyter-widgets/controls",
      "_model_module_version": "1.5.0",
      "_model_name": "VBoxModel",
      "_view_count": null,
      "_view_module": "@jupyter-widgets/controls",
      "_view_module_version": "1.5.0",
      "_view_name": "VBoxView",
      "box_style": "",
      "children": [
       "IPY_MODEL_153bcee8342143af8ff9ba839fed80e9",
       "IPY_MODEL_4164adeb132c411baacc38efb7bd5112"
      ],
      "layout": "IPY_MODEL_08d21ec4629e473d801b822bcabcfc83"
     }
    },
    "4164adeb132c411baacc38efb7bd5112": {
     "model_module": "@jupyter-widgets/output",
     "model_name": "OutputModel",
     "state": {
      "_dom_classes": [],
      "_model_module": "@jupyter-widgets/output",
      "_model_module_version": "1.0.0",
      "_model_name": "OutputModel",
      "_view_count": null,
      "_view_module": "@jupyter-widgets/output",
      "_view_module_version": "1.0.0",
      "_view_name": "OutputView",
      "layout": "IPY_MODEL_1d2128da384c41439930833bb4e792af",
      "msg_id": "",
      "outputs": [
       {
        "image/png": "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\n",
        "metadata": {
         "needs_background": "light",
         "tags": []
        },
        "output_type": "display_data",
        "text/plain": "<Figure size 720x360 with 4 Axes>"
       }
      ]
     }
    },
    "4b5e4a2af4ec4615b0b8f94bdd8890eb": {
     "model_module": "@jupyter-widgets/base",
     "model_name": "LayoutModel",
     "state": {
      "_model_module": "@jupyter-widgets/base",
      "_model_module_version": "1.2.0",
      "_model_name": "LayoutModel",
      "_view_count": null,
      "_view_module": "@jupyter-widgets/base",
      "_view_module_version": "1.2.0",
      "_view_name": "LayoutView",
      "align_content": null,
      "align_items": null,
      "align_self": null,
      "border": null,
      "bottom": null,
      "display": null,
      "flex": null,
      "flex_flow": null,
      "grid_area": null,
      "grid_auto_columns": null,
      "grid_auto_flow": null,
      "grid_auto_rows": null,
      "grid_column": null,
      "grid_gap": null,
      "grid_row": null,
      "grid_template_areas": null,
      "grid_template_columns": null,
      "grid_template_rows": null,
      "height": null,
      "justify_content": null,
      "justify_items": null,
      "left": null,
      "margin": null,
      "max_height": null,
      "max_width": null,
      "min_height": null,
      "min_width": null,
      "object_fit": null,
      "object_position": null,
      "order": null,
      "overflow": null,
      "overflow_x": null,
      "overflow_y": null,
      "padding": null,
      "right": null,
      "top": null,
      "visibility": null,
      "width": null
     }
    },
    "5aa449b4e6a14684936d90fd5cc2f211": {
     "model_module": "@jupyter-widgets/controls",
     "model_name": "SliderStyleModel",
     "state": {
      "_model_module": "@jupyter-widgets/controls",
      "_model_module_version": "1.5.0",
      "_model_name": "SliderStyleModel",
      "_view_count": null,
      "_view_module": "@jupyter-widgets/base",
      "_view_module_version": "1.2.0",
      "_view_name": "StyleView",
      "description_width": "",
      "handle_color": null
     }
    },
    "81f69a8750334eba96048be53fed9a32": {
     "model_module": "@jupyter-widgets/controls",
     "model_name": "IntSliderModel",
     "state": {
      "_dom_classes": [],
      "_model_module": "@jupyter-widgets/controls",
      "_model_module_version": "1.5.0",
      "_model_name": "IntSliderModel",
      "_view_count": null,
      "_view_module": "@jupyter-widgets/controls",
      "_view_module_version": "1.5.0",
      "_view_name": "IntSliderView",
      "continuous_update": true,
      "description": "idx",
      "description_tooltip": null,
      "disabled": false,
      "layout": "IPY_MODEL_0b4c8d82c07e41f2b6f215a017597c76",
      "max": 60000,
      "min": 0,
      "orientation": "horizontal",
      "readout": true,
      "readout_format": "d",
      "step": 1,
      "style": "IPY_MODEL_9449812b16674f619b7d2650d87134ed",
      "value": 28258
     }
    },
    "88bb0f5dce5444a796104c8085114ed0": {
     "model_module": "@jupyter-widgets/base",
     "model_name": "LayoutModel",
     "state": {
      "_model_module": "@jupyter-widgets/base",
      "_model_module_version": "1.2.0",
      "_model_name": "LayoutModel",
      "_view_count": null,
      "_view_module": "@jupyter-widgets/base",
      "_view_module_version": "1.2.0",
      "_view_name": "LayoutView",
      "align_content": null,
      "align_items": null,
      "align_self": null,
      "border": null,
      "bottom": null,
      "display": null,
      "flex": null,
      "flex_flow": null,
      "grid_area": null,
      "grid_auto_columns": null,
      "grid_auto_flow": null,
      "grid_auto_rows": null,
      "grid_column": null,
      "grid_gap": null,
      "grid_row": null,
      "grid_template_areas": null,
      "grid_template_columns": null,
      "grid_template_rows": null,
      "height": null,
      "justify_content": null,
      "justify_items": null,
      "left": null,
      "margin": null,
      "max_height": null,
      "max_width": null,
      "min_height": null,
      "min_width": null,
      "object_fit": null,
      "object_position": null,
      "order": null,
      "overflow": null,
      "overflow_x": null,
      "overflow_y": null,
      "padding": null,
      "right": null,
      "top": null,
      "visibility": null,
      "width": null
     }
    },
    "9449812b16674f619b7d2650d87134ed": {
     "model_module": "@jupyter-widgets/controls",
     "model_name": "SliderStyleModel",
     "state": {
      "_model_module": "@jupyter-widgets/controls",
      "_model_module_version": "1.5.0",
      "_model_name": "SliderStyleModel",
      "_view_count": null,
      "_view_module": "@jupyter-widgets/base",
      "_view_module_version": "1.2.0",
      "_view_name": "StyleView",
      "description_width": "",
      "handle_color": null
     }
    },
    "c742a7d600b648a7839d85a3bc87fc50": {
     "model_module": "@jupyter-widgets/base",
     "model_name": "LayoutModel",
     "state": {
      "_model_module": "@jupyter-widgets/base",
      "_model_module_version": "1.2.0",
      "_model_name": "LayoutModel",
      "_view_count": null,
      "_view_module": "@jupyter-widgets/base",
      "_view_module_version": "1.2.0",
      "_view_name": "LayoutView",
      "align_content": null,
      "align_items": null,
      "align_self": null,
      "border": null,
      "bottom": null,
      "display": null,
      "flex": null,
      "flex_flow": null,
      "grid_area": null,
      "grid_auto_columns": null,
      "grid_auto_flow": null,
      "grid_auto_rows": null,
      "grid_column": null,
      "grid_gap": null,
      "grid_row": null,
      "grid_template_areas": null,
      "grid_template_columns": null,
      "grid_template_rows": null,
      "height": null,
      "justify_content": null,
      "justify_items": null,
      "left": null,
      "margin": null,
      "max_height": null,
      "max_width": null,
      "min_height": null,
      "min_width": null,
      "object_fit": null,
      "object_position": null,
      "order": null,
      "overflow": null,
      "overflow_x": null,
      "overflow_y": null,
      "padding": null,
      "right": null,
      "top": null,
      "visibility": null,
      "width": null
     }
    },
    "d25df4b14d8247fa98dfd8a3288ebb52": {
     "model_module": "@jupyter-widgets/controls",
     "model_name": "VBoxModel",
     "state": {
      "_dom_classes": [
       "widget-interact"
      ],
      "_model_module": "@jupyter-widgets/controls",
      "_model_module_version": "1.5.0",
      "_model_name": "VBoxModel",
      "_view_count": null,
      "_view_module": "@jupyter-widgets/controls",
      "_view_module_version": "1.5.0",
      "_view_name": "VBoxView",
      "box_style": "",
      "children": [
       "IPY_MODEL_81f69a8750334eba96048be53fed9a32",
       "IPY_MODEL_f846bb4394094fadbfa23522219d7af3"
      ],
      "layout": "IPY_MODEL_88bb0f5dce5444a796104c8085114ed0"
     }
    },
    "f846bb4394094fadbfa23522219d7af3": {
     "model_module": "@jupyter-widgets/output",
     "model_name": "OutputModel",
     "state": {
      "_dom_classes": [],
      "_model_module": "@jupyter-widgets/output",
      "_model_module_version": "1.0.0",
      "_model_name": "OutputModel",
      "_view_count": null,
      "_view_module": "@jupyter-widgets/output",
      "_view_module_version": "1.0.0",
      "_view_name": "OutputView",
      "layout": "IPY_MODEL_c742a7d600b648a7839d85a3bc87fc50",
      "msg_id": "",
      "outputs": [
       {
        "image/png": "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\n",
        "metadata": {
         "needs_background": "light",
         "tags": []
        },
        "output_type": "display_data",
        "text/plain": "<Figure size 864x648 with 4 Axes>"
       }
      ]
     }
    }
   }
  }
 },
 "nbformat": 4,
 "nbformat_minor": 4
}
