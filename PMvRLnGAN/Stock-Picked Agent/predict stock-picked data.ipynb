{
 "cells": [
  {
   "cell_type": "markdown",
   "metadata": {
    "id": "nGv01K8Sh1hn"
   },
   "source": [
    "<a id='1.3'></a>\n",
    "## Import Packages"
   ]
  },
  {
   "cell_type": "code",
   "execution_count": 1,
   "metadata": {
    "id": "lPqeTTwoh1hn"
   },
   "outputs": [],
   "source": [
    "import pandas as pd\n",
    "import numpy as np\n",
    "from finrl.meta.env_stock_trading.env_stocktrading import StockTradingEnv\n",
    "from stable_baselines3.common.logger import configure\n",
    "import pandas as pd\n",
    "from sklearn.preprocessing import StandardScaler #平均值是0, 標準差是1\n",
    "from finrl.meta.preprocessor.preprocessors import FeatureEngineer\n",
    "from stable_baselines3 import PPO"
   ]
  },
  {
   "cell_type": "markdown",
   "metadata": {
    "id": "T2owTj985RW4"
   },
   "source": [
    "<a id='1.4'></a>\n",
    "## Create Folders"
   ]
  },
  {
   "cell_type": "code",
   "execution_count": 2,
   "metadata": {
    "id": "RtUc_ofKmpdy"
   },
   "outputs": [],
   "source": [
    "from finrl import config\n",
    "from finrl.main import check_and_make_directories\n",
    "from finrl.config import (\n",
    "    DATA_SAVE_DIR,\n",
    "    TRAINED_MODEL_DIR,\n",
    "    TENSORBOARD_LOG_DIR,\n",
    "    RESULTS_DIR,\n",
    "    INDICATORS,\n",
    "    TRAIN_START_DATE,\n",
    "    TRAIN_END_DATE,\n",
    "    TEST_START_DATE,\n",
    "    TEST_END_DATE,\n",
    "    TRADE_START_DATE,\n",
    "    TRADE_END_DATE,\n",
    "    CHIPS,\n",
    ")\n",
    "check_and_make_directories([DATA_SAVE_DIR, TRAINED_MODEL_DIR, TENSORBOARD_LOG_DIR, RESULTS_DIR])"
   ]
  },
  {
   "cell_type": "code",
   "execution_count": 3,
   "metadata": {
    "colab": {
     "base_uri": "https://localhost:8080/"
    },
    "id": "yCKm4om-s9kE",
    "outputId": "24dbccc1-190c-4912-b67a-9fe8fd9afbf2",
    "scrolled": true
   },
   "outputs": [],
   "source": [
    "df = pd.read_csv('Input for Stock-Picked Agent predict.csv')\n",
    "df = df.fillna(0)"
   ]
  },
  {
   "cell_type": "code",
   "execution_count": 4,
   "metadata": {},
   "outputs": [],
   "source": [
    "features = ['CostOfGoodsSold',\n",
    "            'EPS',\n",
    "            'EquityAttributableToOwnersOfParent_x',\n",
    "            'IncomeAfterTaxes',\n",
    "            'IncomeFromContinuingOperations',\n",
    "            'OtherComprehensiveIncome',\n",
    "            'Revenue',\n",
    "            'TAX',\n",
    "            'TotalConsolidatedProfitForThePeriod',\t\n",
    "            'CapitalStock',\n",
    "            'CapitalStock_per',\t\n",
    "            'CapitalSurplus',\n",
    "            'CapitalSurplus_per',\t\n",
    "            'CashAndCashEquivalents',\t\n",
    "            'CashAndCashEquivalents_per',\t\n",
    "            'CurrentAssets',\n",
    "            'CurrentAssets_per',\t\n",
    "            'Equity',\n",
    "            'EquityAttributableToOwnersOfParent_y',\n",
    "            'EquityAttributableToOwnersOfParent_per',\t\n",
    "            'Equity_per',\n",
    "            'NoncurrentAssets',\n",
    "            'NoncurrentAssets_per',\t\n",
    "            'NoncurrentLiabilities',\n",
    "            'NoncurrentLiabilities_per',\t\n",
    "            'OrdinaryShare',\n",
    "            'OrdinaryShare_per',\t\n",
    "            'OtherCurrentLiabilities',\t\n",
    "            'OtherCurrentLiabilities_per',\t\n",
    "            'OtherEquityInterest',\n",
    "            'OtherEquityInterest_per',\t\n",
    "            'RetainedEarnings',\n",
    "            'RetainedEarnings_per',\t\n",
    "            'TotalAssets',\n",
    "            'TotalAssets_per',\t\n",
    "            'CashBalancesBeginningOfPeriod',\n",
    "            'CashBalancesEndOfPeriod',\n",
    "            'Depreciation',\n",
    "            'PayTheInterest',\t\n",
    "            'PropertyAndPlantAndEquipment' ]\n",
    "\n",
    "# 建立 StandardScaler 物件\n",
    "ss = StandardScaler()\n",
    "\n",
    "df_features_scaled = pd.DataFrame(ss.fit_transform(df[features]), columns=features, index=df.index)\n",
    "\n",
    "\n",
    "df.update(df_features_scaled)"
   ]
  },
  {
   "cell_type": "code",
   "execution_count": 5,
   "metadata": {
    "colab": {
     "base_uri": "https://localhost:8080/"
    },
    "id": "PmKP-1ii3RLS",
    "outputId": "9b9facc1-f877-4caa-b66b-a2ce0e023de8"
   },
   "outputs": [],
   "source": [
    "fe = FeatureEngineer(\n",
    "                    use_technical_indicator=False,\n",
    "                    tech_indicator_list = INDICATORS,\n",
    "                    use_vix=False,\n",
    "                    use_turbulence=False, \n",
    "                    user_defined_feature = False)\n",
    "\n",
    "PREDICT = fe.preprocess_data(df)"
   ]
  },
  {
   "cell_type": "code",
   "execution_count": 8,
   "metadata": {},
   "outputs": [],
   "source": []
  },
  {
   "cell_type": "code",
   "execution_count": 9,
   "metadata": {},
   "outputs": [
    {
     "name": "stdout",
     "output_type": "stream",
     "text": [
      "Stock Dimension: 74, State Space: 8585\n"
     ]
    }
   ],
   "source": [
    "stock_dimension = len(PREDICT.tic.unique()) \n",
    "state_space = 1 + 2*stock_dimension + len(INDICATORS)*stock_dimension \n",
    "print(f\"Stock Dimension: {stock_dimension}, State Space: {state_space}\")"
   ]
  },
  {
   "cell_type": "code",
   "execution_count": 10,
   "metadata": {},
   "outputs": [],
   "source": [
    "buy_cost_list =  [0] * stock_dimension\n",
    "sell_cost_list = [0] * stock_dimension\n",
    "buy_cost_list =  [0] * stock_dimension\n",
    "sell_cost_list = [0] * stock_dimension\n",
    "num_stock_shares = [0] * stock_dimension\n",
    "\n",
    "\n",
    "env_kwargs = {\n",
    "    \"hmax\": 1,\n",
    "    \"initial_amount\": 0,\n",
    "    \"num_stock_shares\": num_stock_shares,\n",
    "    \"buy_cost_pct\": buy_cost_list,\n",
    "    \"sell_cost_pct\": sell_cost_list,\n",
    "    \"state_space\": state_space,\n",
    "    \"stock_dim\": stock_dimension,\n",
    "    \"tech_indicator_list\": INDICATORS,\n",
    "    \"action_space\": stock_dimension,\n",
    "    \"reward_scaling\": 0\n",
    "}"
   ]
  },
  {
   "cell_type": "code",
   "execution_count": 11,
   "metadata": {
    "scrolled": true
   },
   "outputs": [
    {
     "name": "stdout",
     "output_type": "stream",
     "text": [
      "== CURRENT SYSTEM INFO ==\n",
      "OS: Windows-10-10.0.19041-SP0 10.0.19041\n",
      "Python: 3.7.13\n",
      "Stable-Baselines3: 1.6.2\n",
      "PyTorch: 1.13.0+cpu\n",
      "GPU Enabled: False\n",
      "Numpy: 1.18.5\n",
      "Gym: 0.21.0\n",
      "\n",
      "== SAVED MODEL SYSTEM INFO ==\n",
      "OS: Windows-10-10.0.19041-SP0 10.0.19041\n",
      "Python: 3.7.13\n",
      "Stable-Baselines3: 1.6.2\n",
      "PyTorch: 1.13.0+cpu\n",
      "GPU Enabled: False\n",
      "Numpy: 1.18.5\n",
      "Gym: 0.21.0\n",
      "\n",
      "old_net_arch:  None\n",
      "new_net_arch:  [64, 64, {'pi': [64, 64, 64], 'vf': [64, 64, 64]}]\n"
     ]
    }
   ],
   "source": [
    "trained_ppo = PPO.load(\"PPO_Stock_Picked_Agent_Sharpe_Ratio.zip\")"
   ]
  },
  {
   "cell_type": "code",
   "execution_count": 12,
   "metadata": {},
   "outputs": [
    {
     "name": "stdout",
     "output_type": "stream",
     "text": [
      "[[1 1 0 0 0 0 1 0 0 1 0 0 0 1 0 0 1 0 1 1 0 0 1 1 0 1 0 0 0 0 1 0 0 0 1 0\n",
      "  1 0 1 1 0 1 1 1 1 0 0 1 0 0 1 0 0 1 0 0 0 1 1 1 0 1 1 1 0 1 1 0 1 1 0 0\n",
      "  1 1]]\n"
     ]
    }
   ],
   "source": [
    "e_predict_gym = StockTradingEnv(df = PREDICT, turbulence_threshold = None,risk_indicator_col=None, **env_kwargs)\n",
    "\n",
    "predict_env, predict_obs = e_predict_gym.get_sb_env()\n",
    "predict_env.reset()\n",
    "action, _states = trained_ppo.predict(predict_obs, deterministic=True)\n",
    "\n",
    "print(action)"
   ]
  },
  {
   "cell_type": "code",
   "execution_count": null,
   "metadata": {},
   "outputs": [],
   "source": []
  },
  {
   "cell_type": "code",
   "execution_count": null,
   "metadata": {},
   "outputs": [],
   "source": []
  }
 ],
 "metadata": {
  "colab": {
   "collapsed_sections": [
    "_gDkU-j-fCmZ",
    "3Zpv4S0-fDBv"
   ],
   "name": "Stock_NeurIPS2018.ipynb",
   "provenance": []
  },
  "kernelspec": {
   "display_name": "RL-GAT",
   "language": "python",
   "name": "rl-gat"
  },
  "language_info": {
   "codemirror_mode": {
    "name": "ipython",
    "version": 3
   },
   "file_extension": ".py",
   "mimetype": "text/x-python",
   "name": "python",
   "nbconvert_exporter": "python",
   "pygments_lexer": "ipython3",
   "version": "3.8.18"
  }
 },
 "nbformat": 4,
 "nbformat_minor": 4
}
